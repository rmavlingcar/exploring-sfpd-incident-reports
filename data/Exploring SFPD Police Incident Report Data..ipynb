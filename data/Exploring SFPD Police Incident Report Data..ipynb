{
 "cells": [
  {
   "cell_type": "markdown",
   "metadata": {},
   "source": [
    "# Exploring SFPD Police Incident Report Data\n",
    "The dataset available has SFPD police incident report data from January 2003 to May 2018. The goal is to perform analysis on the available data to discern trends over the years in San Francisco's crime scene.\n",
    "\n",
    "The data is freely available at [datasf.org](https://data.sfgov.org/Public-Safety/Police-Department-Incident-Reports-Historical-2003/tmnf-yvry).\n"
   ]
  },
  {
   "cell_type": "code",
   "execution_count": 1,
   "metadata": {},
   "outputs": [],
   "source": [
    "# load libraries\n",
    "import numpy as np\n",
    "import pandas as pd\n",
    "import matplotlib.pyplot as plt"
   ]
  },
  {
   "cell_type": "code",
   "execution_count": 5,
   "metadata": {},
   "outputs": [
    {
     "name": "stdout",
     "output_type": "stream",
     "text": [
      "(2129525, 35)\n",
      "<class 'pandas.core.frame.DataFrame'>\n",
      "RangeIndex: 2129525 entries, 0 to 2129524\n",
      "Data columns (total 35 columns):\n",
      " #   Column                                                    Dtype  \n",
      "---  ------                                                    -----  \n",
      " 0   PdId                                                      int64  \n",
      " 1   IncidntNum                                                int64  \n",
      " 2   Incident Code                                             int64  \n",
      " 3   Category                                                  object \n",
      " 4   Descript                                                  object \n",
      " 5   DayOfWeek                                                 object \n",
      " 6   Date                                                      object \n",
      " 7   Time                                                      object \n",
      " 8   PdDistrict                                                object \n",
      " 9   Resolution                                                object \n",
      " 10  Address                                                   object \n",
      " 11  X                                                         float64\n",
      " 12  Y                                                         float64\n",
      " 13  location                                                  object \n",
      " 14  SF Find Neighborhoods 2 2                                 float64\n",
      " 15  Current Police Districts 2 2                              float64\n",
      " 16  Current Supervisor Districts 2 2                          float64\n",
      " 17  Analysis Neighborhoods 2 2                                float64\n",
      " 18  DELETE - Fire Prevention Districts 2 2                    float64\n",
      " 19  DELETE - Police Districts 2 2                             float64\n",
      " 20  DELETE - Supervisor Districts 2 2                         float64\n",
      " 21  DELETE - Zip Codes 2 2                                    float64\n",
      " 22  DELETE - Neighborhoods 2 2                                float64\n",
      " 23  DELETE - 2017 Fix It Zones 2 2                            float64\n",
      " 24  Civic Center Harm Reduction Project Boundary 2 2          float64\n",
      " 25  Fix It Zones as of 2017-11-06  2 2                        float64\n",
      " 26  DELETE - HSOC Zones 2 2                                   float64\n",
      " 27  Fix It Zones as of 2018-02-07 2 2                         float64\n",
      " 28  CBD, BID and GBD Boundaries as of 2017 2 2                float64\n",
      " 29  Areas of Vulnerability, 2016 2 2                          float64\n",
      " 30  Central Market/Tenderloin Boundary 2 2                    float64\n",
      " 31  Central Market/Tenderloin Boundary Polygon - Updated 2 2  float64\n",
      " 32  HSOC Zones as of 2018-06-05 2 2                           float64\n",
      " 33  OWED Public Spaces 2 2                                    float64\n",
      " 34  Neighborhoods 2                                           float64\n",
      "dtypes: float64(23), int64(3), object(9)\n",
      "memory usage: 568.6+ MB\n"
     ]
    },
    {
     "data": {
      "text/html": [
       "<div>\n",
       "<style scoped>\n",
       "    .dataframe tbody tr th:only-of-type {\n",
       "        vertical-align: middle;\n",
       "    }\n",
       "\n",
       "    .dataframe tbody tr th {\n",
       "        vertical-align: top;\n",
       "    }\n",
       "\n",
       "    .dataframe thead th {\n",
       "        text-align: right;\n",
       "    }\n",
       "</style>\n",
       "<table border=\"1\" class=\"dataframe\">\n",
       "  <thead>\n",
       "    <tr style=\"text-align: right;\">\n",
       "      <th></th>\n",
       "      <th>PdId</th>\n",
       "      <th>IncidntNum</th>\n",
       "      <th>Incident Code</th>\n",
       "      <th>Category</th>\n",
       "      <th>Descript</th>\n",
       "      <th>DayOfWeek</th>\n",
       "      <th>Date</th>\n",
       "      <th>Time</th>\n",
       "      <th>PdDistrict</th>\n",
       "      <th>Resolution</th>\n",
       "      <th>...</th>\n",
       "      <th>Fix It Zones as of 2017-11-06  2 2</th>\n",
       "      <th>DELETE - HSOC Zones 2 2</th>\n",
       "      <th>Fix It Zones as of 2018-02-07 2 2</th>\n",
       "      <th>CBD, BID and GBD Boundaries as of 2017 2 2</th>\n",
       "      <th>Areas of Vulnerability, 2016 2 2</th>\n",
       "      <th>Central Market/Tenderloin Boundary 2 2</th>\n",
       "      <th>Central Market/Tenderloin Boundary Polygon - Updated 2 2</th>\n",
       "      <th>HSOC Zones as of 2018-06-05 2 2</th>\n",
       "      <th>OWED Public Spaces 2 2</th>\n",
       "      <th>Neighborhoods 2</th>\n",
       "    </tr>\n",
       "  </thead>\n",
       "  <tbody>\n",
       "    <tr>\n",
       "      <th>0</th>\n",
       "      <td>3114751606302</td>\n",
       "      <td>31147516</td>\n",
       "      <td>6302</td>\n",
       "      <td>LARCENY/THEFT</td>\n",
       "      <td>PETTY THEFT FROM A BUILDING</td>\n",
       "      <td>Sunday</td>\n",
       "      <td>09/28/2003</td>\n",
       "      <td>10:00</td>\n",
       "      <td>SOUTHERN</td>\n",
       "      <td>NONE</td>\n",
       "      <td>...</td>\n",
       "      <td>NaN</td>\n",
       "      <td>NaN</td>\n",
       "      <td>NaN</td>\n",
       "      <td>NaN</td>\n",
       "      <td>NaN</td>\n",
       "      <td>NaN</td>\n",
       "      <td>NaN</td>\n",
       "      <td>NaN</td>\n",
       "      <td>NaN</td>\n",
       "      <td>NaN</td>\n",
       "    </tr>\n",
       "    <tr>\n",
       "      <th>1</th>\n",
       "      <td>5069701104134</td>\n",
       "      <td>50697011</td>\n",
       "      <td>4134</td>\n",
       "      <td>ASSAULT</td>\n",
       "      <td>BATTERY</td>\n",
       "      <td>Wednesday</td>\n",
       "      <td>06/22/2005</td>\n",
       "      <td>12:20</td>\n",
       "      <td>NORTHERN</td>\n",
       "      <td>NONE</td>\n",
       "      <td>...</td>\n",
       "      <td>NaN</td>\n",
       "      <td>NaN</td>\n",
       "      <td>NaN</td>\n",
       "      <td>NaN</td>\n",
       "      <td>2.0</td>\n",
       "      <td>NaN</td>\n",
       "      <td>NaN</td>\n",
       "      <td>NaN</td>\n",
       "      <td>NaN</td>\n",
       "      <td>97.0</td>\n",
       "    </tr>\n",
       "    <tr>\n",
       "      <th>2</th>\n",
       "      <td>6074729204104</td>\n",
       "      <td>60747292</td>\n",
       "      <td>4104</td>\n",
       "      <td>ASSAULT</td>\n",
       "      <td>ASSAULT</td>\n",
       "      <td>Saturday</td>\n",
       "      <td>07/15/2006</td>\n",
       "      <td>00:55</td>\n",
       "      <td>CENTRAL</td>\n",
       "      <td>NONE</td>\n",
       "      <td>...</td>\n",
       "      <td>NaN</td>\n",
       "      <td>NaN</td>\n",
       "      <td>NaN</td>\n",
       "      <td>NaN</td>\n",
       "      <td>2.0</td>\n",
       "      <td>NaN</td>\n",
       "      <td>NaN</td>\n",
       "      <td>NaN</td>\n",
       "      <td>NaN</td>\n",
       "      <td>106.0</td>\n",
       "    </tr>\n",
       "    <tr>\n",
       "      <th>3</th>\n",
       "      <td>7103536315201</td>\n",
       "      <td>71035363</td>\n",
       "      <td>15201</td>\n",
       "      <td>ASSAULT</td>\n",
       "      <td>STALKING</td>\n",
       "      <td>Tuesday</td>\n",
       "      <td>09/25/2007</td>\n",
       "      <td>00:01</td>\n",
       "      <td>TARAVAL</td>\n",
       "      <td>NONE</td>\n",
       "      <td>...</td>\n",
       "      <td>NaN</td>\n",
       "      <td>NaN</td>\n",
       "      <td>NaN</td>\n",
       "      <td>NaN</td>\n",
       "      <td>1.0</td>\n",
       "      <td>NaN</td>\n",
       "      <td>NaN</td>\n",
       "      <td>NaN</td>\n",
       "      <td>NaN</td>\n",
       "      <td>49.0</td>\n",
       "    </tr>\n",
       "    <tr>\n",
       "      <th>4</th>\n",
       "      <td>11082415274000</td>\n",
       "      <td>110824152</td>\n",
       "      <td>74000</td>\n",
       "      <td>MISSING PERSON</td>\n",
       "      <td>MISSING ADULT</td>\n",
       "      <td>Saturday</td>\n",
       "      <td>09/24/2011</td>\n",
       "      <td>11:00</td>\n",
       "      <td>TARAVAL</td>\n",
       "      <td>LOCATED</td>\n",
       "      <td>...</td>\n",
       "      <td>NaN</td>\n",
       "      <td>NaN</td>\n",
       "      <td>NaN</td>\n",
       "      <td>NaN</td>\n",
       "      <td>NaN</td>\n",
       "      <td>NaN</td>\n",
       "      <td>NaN</td>\n",
       "      <td>NaN</td>\n",
       "      <td>NaN</td>\n",
       "      <td>NaN</td>\n",
       "    </tr>\n",
       "  </tbody>\n",
       "</table>\n",
       "<p>5 rows × 35 columns</p>\n",
       "</div>"
      ],
      "text/plain": [
       "             PdId  IncidntNum  Incident Code        Category  \\\n",
       "0   3114751606302    31147516           6302   LARCENY/THEFT   \n",
       "1   5069701104134    50697011           4134         ASSAULT   \n",
       "2   6074729204104    60747292           4104         ASSAULT   \n",
       "3   7103536315201    71035363          15201         ASSAULT   \n",
       "4  11082415274000   110824152          74000  MISSING PERSON   \n",
       "\n",
       "                      Descript  DayOfWeek        Date   Time PdDistrict  \\\n",
       "0  PETTY THEFT FROM A BUILDING     Sunday  09/28/2003  10:00   SOUTHERN   \n",
       "1                      BATTERY  Wednesday  06/22/2005  12:20   NORTHERN   \n",
       "2                      ASSAULT   Saturday  07/15/2006  00:55    CENTRAL   \n",
       "3                     STALKING    Tuesday  09/25/2007  00:01    TARAVAL   \n",
       "4                MISSING ADULT   Saturday  09/24/2011  11:00    TARAVAL   \n",
       "\n",
       "  Resolution  ... Fix It Zones as of 2017-11-06  2 2  DELETE - HSOC Zones 2 2  \\\n",
       "0       NONE  ...                                NaN                      NaN   \n",
       "1       NONE  ...                                NaN                      NaN   \n",
       "2       NONE  ...                                NaN                      NaN   \n",
       "3       NONE  ...                                NaN                      NaN   \n",
       "4    LOCATED  ...                                NaN                      NaN   \n",
       "\n",
       "   Fix It Zones as of 2018-02-07 2 2  \\\n",
       "0                                NaN   \n",
       "1                                NaN   \n",
       "2                                NaN   \n",
       "3                                NaN   \n",
       "4                                NaN   \n",
       "\n",
       "  CBD, BID and GBD Boundaries as of 2017 2 2  \\\n",
       "0                                        NaN   \n",
       "1                                        NaN   \n",
       "2                                        NaN   \n",
       "3                                        NaN   \n",
       "4                                        NaN   \n",
       "\n",
       "   Areas of Vulnerability, 2016 2 2  Central Market/Tenderloin Boundary 2 2  \\\n",
       "0                               NaN                                     NaN   \n",
       "1                               2.0                                     NaN   \n",
       "2                               2.0                                     NaN   \n",
       "3                               1.0                                     NaN   \n",
       "4                               NaN                                     NaN   \n",
       "\n",
       "   Central Market/Tenderloin Boundary Polygon - Updated 2 2  \\\n",
       "0                                                NaN          \n",
       "1                                                NaN          \n",
       "2                                                NaN          \n",
       "3                                                NaN          \n",
       "4                                                NaN          \n",
       "\n",
       "   HSOC Zones as of 2018-06-05 2 2  OWED Public Spaces 2 2  Neighborhoods 2  \n",
       "0                              NaN                     NaN              NaN  \n",
       "1                              NaN                     NaN             97.0  \n",
       "2                              NaN                     NaN            106.0  \n",
       "3                              NaN                     NaN             49.0  \n",
       "4                              NaN                     NaN              NaN  \n",
       "\n",
       "[5 rows x 35 columns]"
      ]
     },
     "execution_count": 5,
     "metadata": {},
     "output_type": "execute_result"
    }
   ],
   "source": [
    "# read data from csv file\n",
    "data = pd.read_csv(\"SFPD-Incident-Reports-Historical-Jan2003-May2018.csv\")\n",
    "\n",
    "#preview rows,cols\n",
    "#print(data.shape)\n",
    "data.info()\n",
    "\n",
    "#preview data\n",
    "data.head()"
   ]
  },
  {
   "cell_type": "markdown",
   "metadata": {},
   "source": [
    "There are 35 columns but we definitely don't need them all. It also looks like there may be null values throughout the dataset. Of particular interest is the Date and Time columns which we can use for temporal analysis. We also need to check for nulls and duplicates and drop them from our dataset."
   ]
  },
  {
   "cell_type": "code",
   "execution_count": 30,
   "metadata": {},
   "outputs": [
    {
     "name": "stdout",
     "output_type": "stream",
     "text": [
      "<class 'pandas.core.frame.DataFrame'>\n",
      "RangeIndex: 2129525 entries, 0 to 2129524\n",
      "Data columns (total 9 columns):\n",
      " #   Column      Dtype         \n",
      "---  ------      -----         \n",
      " 0   Date_Time   datetime64[ns]\n",
      " 1   Category    object        \n",
      " 2   Descript    object        \n",
      " 3   DayOfWeek   object        \n",
      " 4   PdDistrict  object        \n",
      " 5   Resolution  object        \n",
      " 6   Address     object        \n",
      " 7   X           float64       \n",
      " 8   Y           float64       \n",
      "dtypes: datetime64[ns](1), float64(2), object(6)\n",
      "memory usage: 146.2+ MB\n"
     ]
    },
    {
     "data": {
      "text/html": [
       "<div>\n",
       "<style scoped>\n",
       "    .dataframe tbody tr th:only-of-type {\n",
       "        vertical-align: middle;\n",
       "    }\n",
       "\n",
       "    .dataframe tbody tr th {\n",
       "        vertical-align: top;\n",
       "    }\n",
       "\n",
       "    .dataframe thead th {\n",
       "        text-align: right;\n",
       "    }\n",
       "</style>\n",
       "<table border=\"1\" class=\"dataframe\">\n",
       "  <thead>\n",
       "    <tr style=\"text-align: right;\">\n",
       "      <th></th>\n",
       "      <th>Date_Time</th>\n",
       "      <th>Category</th>\n",
       "      <th>Descript</th>\n",
       "      <th>DayOfWeek</th>\n",
       "      <th>PdDistrict</th>\n",
       "      <th>Resolution</th>\n",
       "      <th>Address</th>\n",
       "      <th>X</th>\n",
       "      <th>Y</th>\n",
       "    </tr>\n",
       "  </thead>\n",
       "  <tbody>\n",
       "    <tr>\n",
       "      <th>0</th>\n",
       "      <td>2003-09-28 10:00:00</td>\n",
       "      <td>LARCENY/THEFT</td>\n",
       "      <td>PETTY THEFT FROM A BUILDING</td>\n",
       "      <td>Sunday</td>\n",
       "      <td>SOUTHERN</td>\n",
       "      <td>NONE</td>\n",
       "      <td>1ST ST / BRANNAN ST</td>\n",
       "      <td>-120.500000</td>\n",
       "      <td>90.000000</td>\n",
       "    </tr>\n",
       "    <tr>\n",
       "      <th>1</th>\n",
       "      <td>2005-06-22 12:20:00</td>\n",
       "      <td>ASSAULT</td>\n",
       "      <td>BATTERY</td>\n",
       "      <td>Wednesday</td>\n",
       "      <td>NORTHERN</td>\n",
       "      <td>NONE</td>\n",
       "      <td>1200 Block of EDDY ST</td>\n",
       "      <td>-122.428223</td>\n",
       "      <td>37.781896</td>\n",
       "    </tr>\n",
       "    <tr>\n",
       "      <th>2</th>\n",
       "      <td>2006-07-15 00:55:00</td>\n",
       "      <td>ASSAULT</td>\n",
       "      <td>ASSAULT</td>\n",
       "      <td>Saturday</td>\n",
       "      <td>CENTRAL</td>\n",
       "      <td>NONE</td>\n",
       "      <td>1600 Block of POWELL ST</td>\n",
       "      <td>-122.410672</td>\n",
       "      <td>37.799789</td>\n",
       "    </tr>\n",
       "    <tr>\n",
       "      <th>3</th>\n",
       "      <td>2007-09-25 00:01:00</td>\n",
       "      <td>ASSAULT</td>\n",
       "      <td>STALKING</td>\n",
       "      <td>Tuesday</td>\n",
       "      <td>TARAVAL</td>\n",
       "      <td>NONE</td>\n",
       "      <td>400 Block of ULLOA ST</td>\n",
       "      <td>-122.458226</td>\n",
       "      <td>37.741362</td>\n",
       "    </tr>\n",
       "    <tr>\n",
       "      <th>4</th>\n",
       "      <td>2011-09-24 11:00:00</td>\n",
       "      <td>MISSING PERSON</td>\n",
       "      <td>MISSING ADULT</td>\n",
       "      <td>Saturday</td>\n",
       "      <td>TARAVAL</td>\n",
       "      <td>LOCATED</td>\n",
       "      <td>3200 Block of SAN JOSE AV</td>\n",
       "      <td>-122.459173</td>\n",
       "      <td>37.708200</td>\n",
       "    </tr>\n",
       "  </tbody>\n",
       "</table>\n",
       "</div>"
      ],
      "text/plain": [
       "            Date_Time        Category                     Descript  DayOfWeek  \\\n",
       "0 2003-09-28 10:00:00   LARCENY/THEFT  PETTY THEFT FROM A BUILDING     Sunday   \n",
       "1 2005-06-22 12:20:00         ASSAULT                      BATTERY  Wednesday   \n",
       "2 2006-07-15 00:55:00         ASSAULT                      ASSAULT   Saturday   \n",
       "3 2007-09-25 00:01:00         ASSAULT                     STALKING    Tuesday   \n",
       "4 2011-09-24 11:00:00  MISSING PERSON                MISSING ADULT   Saturday   \n",
       "\n",
       "  PdDistrict Resolution                    Address           X          Y  \n",
       "0   SOUTHERN       NONE        1ST ST / BRANNAN ST -120.500000  90.000000  \n",
       "1   NORTHERN       NONE      1200 Block of EDDY ST -122.428223  37.781896  \n",
       "2    CENTRAL       NONE    1600 Block of POWELL ST -122.410672  37.799789  \n",
       "3    TARAVAL       NONE      400 Block of ULLOA ST -122.458226  37.741362  \n",
       "4    TARAVAL    LOCATED  3200 Block of SAN JOSE AV -122.459173  37.708200  "
      ]
     },
     "execution_count": 30,
     "metadata": {},
     "output_type": "execute_result"
    }
   ],
   "source": [
    "# lets read the csv data again but this time parse the date and time columns as datetime\n",
    "data = pd.read_csv(\"SFPD-Incident-Reports-Historical-Jan2003-May2018.csv\", parse_dates=[['Date','Time']])\n",
    "\n",
    "#we don't need all 35 columns, so lets select what we determine to be relevant\n",
    "data = data[[\"Date_Time\",\"Category\",\"Descript\",'DayOfWeek',\"PdDistrict\",\"Resolution\",\"Address\",\"X\",\"Y\"]]\n",
    "\n",
    "#preview rows,cols\n",
    "data.info()\n",
    "\n",
    "#preview data\n",
    "data.head()"
   ]
  },
  {
   "cell_type": "code",
   "execution_count": 31,
   "metadata": {},
   "outputs": [
    {
     "data": {
      "text/plain": [
       "Date_Time     0\n",
       "Category      0\n",
       "Descript      0\n",
       "DayOfWeek     0\n",
       "PdDistrict    1\n",
       "Resolution    0\n",
       "Address       0\n",
       "X             0\n",
       "Y             0\n",
       "dtype: int64"
      ]
     },
     "execution_count": 31,
     "metadata": {},
     "output_type": "execute_result"
    }
   ],
   "source": [
    "#check for nulls\n",
    "data.isnull().sum()"
   ]
  },
  {
   "cell_type": "code",
   "execution_count": 32,
   "metadata": {},
   "outputs": [
    {
     "data": {
      "text/plain": [
       "Date_Time     0\n",
       "Category      0\n",
       "Descript      0\n",
       "DayOfWeek     0\n",
       "PdDistrict    0\n",
       "Resolution    0\n",
       "Address       0\n",
       "X             0\n",
       "Y             0\n",
       "dtype: int64"
      ]
     },
     "execution_count": 32,
     "metadata": {},
     "output_type": "execute_result"
    }
   ],
   "source": [
    "#drop nulls\n",
    "data.dropna(inplace=True)\n",
    "\n",
    "data.isnull().sum()"
   ]
  },
  {
   "cell_type": "code",
   "execution_count": 33,
   "metadata": {},
   "outputs": [
    {
     "data": {
      "text/plain": [
       "5520"
      ]
     },
     "execution_count": 33,
     "metadata": {},
     "output_type": "execute_result"
    }
   ],
   "source": [
    "#check how many duplicate entries there are\n",
    "data.duplicated().sum()"
   ]
  },
  {
   "cell_type": "code",
   "execution_count": 34,
   "metadata": {},
   "outputs": [
    {
     "name": "stdout",
     "output_type": "stream",
     "text": [
      "<class 'pandas.core.frame.DataFrame'>\n",
      "Int64Index: 2124004 entries, 0 to 2129524\n",
      "Data columns (total 9 columns):\n",
      " #   Column      Dtype         \n",
      "---  ------      -----         \n",
      " 0   Date_Time   datetime64[ns]\n",
      " 1   Category    object        \n",
      " 2   Descript    object        \n",
      " 3   DayOfWeek   object        \n",
      " 4   PdDistrict  object        \n",
      " 5   Resolution  object        \n",
      " 6   Address     object        \n",
      " 7   X           float64       \n",
      " 8   Y           float64       \n",
      "dtypes: datetime64[ns](1), float64(2), object(6)\n",
      "memory usage: 162.0+ MB\n"
     ]
    },
    {
     "data": {
      "text/html": [
       "<div>\n",
       "<style scoped>\n",
       "    .dataframe tbody tr th:only-of-type {\n",
       "        vertical-align: middle;\n",
       "    }\n",
       "\n",
       "    .dataframe tbody tr th {\n",
       "        vertical-align: top;\n",
       "    }\n",
       "\n",
       "    .dataframe thead th {\n",
       "        text-align: right;\n",
       "    }\n",
       "</style>\n",
       "<table border=\"1\" class=\"dataframe\">\n",
       "  <thead>\n",
       "    <tr style=\"text-align: right;\">\n",
       "      <th></th>\n",
       "      <th>Date_Time</th>\n",
       "      <th>Category</th>\n",
       "      <th>Descript</th>\n",
       "      <th>DayOfWeek</th>\n",
       "      <th>PdDistrict</th>\n",
       "      <th>Resolution</th>\n",
       "      <th>Address</th>\n",
       "      <th>X</th>\n",
       "      <th>Y</th>\n",
       "    </tr>\n",
       "  </thead>\n",
       "  <tbody>\n",
       "    <tr>\n",
       "      <th>0</th>\n",
       "      <td>2003-09-28 10:00:00</td>\n",
       "      <td>LARCENY/THEFT</td>\n",
       "      <td>PETTY THEFT FROM A BUILDING</td>\n",
       "      <td>Sunday</td>\n",
       "      <td>SOUTHERN</td>\n",
       "      <td>NONE</td>\n",
       "      <td>1ST ST / BRANNAN ST</td>\n",
       "      <td>-120.500000</td>\n",
       "      <td>90.000000</td>\n",
       "    </tr>\n",
       "    <tr>\n",
       "      <th>1</th>\n",
       "      <td>2005-06-22 12:20:00</td>\n",
       "      <td>ASSAULT</td>\n",
       "      <td>BATTERY</td>\n",
       "      <td>Wednesday</td>\n",
       "      <td>NORTHERN</td>\n",
       "      <td>NONE</td>\n",
       "      <td>1200 Block of EDDY ST</td>\n",
       "      <td>-122.428223</td>\n",
       "      <td>37.781896</td>\n",
       "    </tr>\n",
       "    <tr>\n",
       "      <th>2</th>\n",
       "      <td>2006-07-15 00:55:00</td>\n",
       "      <td>ASSAULT</td>\n",
       "      <td>ASSAULT</td>\n",
       "      <td>Saturday</td>\n",
       "      <td>CENTRAL</td>\n",
       "      <td>NONE</td>\n",
       "      <td>1600 Block of POWELL ST</td>\n",
       "      <td>-122.410672</td>\n",
       "      <td>37.799789</td>\n",
       "    </tr>\n",
       "    <tr>\n",
       "      <th>3</th>\n",
       "      <td>2007-09-25 00:01:00</td>\n",
       "      <td>ASSAULT</td>\n",
       "      <td>STALKING</td>\n",
       "      <td>Tuesday</td>\n",
       "      <td>TARAVAL</td>\n",
       "      <td>NONE</td>\n",
       "      <td>400 Block of ULLOA ST</td>\n",
       "      <td>-122.458226</td>\n",
       "      <td>37.741362</td>\n",
       "    </tr>\n",
       "    <tr>\n",
       "      <th>4</th>\n",
       "      <td>2011-09-24 11:00:00</td>\n",
       "      <td>MISSING PERSON</td>\n",
       "      <td>MISSING ADULT</td>\n",
       "      <td>Saturday</td>\n",
       "      <td>TARAVAL</td>\n",
       "      <td>LOCATED</td>\n",
       "      <td>3200 Block of SAN JOSE AV</td>\n",
       "      <td>-122.459173</td>\n",
       "      <td>37.708200</td>\n",
       "    </tr>\n",
       "  </tbody>\n",
       "</table>\n",
       "</div>"
      ],
      "text/plain": [
       "            Date_Time        Category                     Descript  DayOfWeek  \\\n",
       "0 2003-09-28 10:00:00   LARCENY/THEFT  PETTY THEFT FROM A BUILDING     Sunday   \n",
       "1 2005-06-22 12:20:00         ASSAULT                      BATTERY  Wednesday   \n",
       "2 2006-07-15 00:55:00         ASSAULT                      ASSAULT   Saturday   \n",
       "3 2007-09-25 00:01:00         ASSAULT                     STALKING    Tuesday   \n",
       "4 2011-09-24 11:00:00  MISSING PERSON                MISSING ADULT   Saturday   \n",
       "\n",
       "  PdDistrict Resolution                    Address           X          Y  \n",
       "0   SOUTHERN       NONE        1ST ST / BRANNAN ST -120.500000  90.000000  \n",
       "1   NORTHERN       NONE      1200 Block of EDDY ST -122.428223  37.781896  \n",
       "2    CENTRAL       NONE    1600 Block of POWELL ST -122.410672  37.799789  \n",
       "3    TARAVAL       NONE      400 Block of ULLOA ST -122.458226  37.741362  \n",
       "4    TARAVAL    LOCATED  3200 Block of SAN JOSE AV -122.459173  37.708200  "
      ]
     },
     "execution_count": 34,
     "metadata": {},
     "output_type": "execute_result"
    }
   ],
   "source": [
    "#drop duplicate entries\n",
    "data.drop_duplicates(subset=None, keep=\"first\", inplace=True)\n",
    "\n",
    "#preview rows,cols\n",
    "data.info()\n",
    "\n",
    "#preview data\n",
    "data.head()"
   ]
  },
  {
   "cell_type": "markdown",
   "metadata": {},
   "source": [
    "We can infer from the number of rows that there are 2,129,525 number of crimes in the dataset. Of which around 5,520 were duplicates and one had a null value leaving a total of 2,124,004 crimes.\n",
    "\n",
    "We can start some descriptive analysis and determine the different categories of crimes and number of crimes in each category."
   ]
  },
  {
   "cell_type": "code",
   "execution_count": 35,
   "metadata": {},
   "outputs": [
    {
     "name": "stdout",
     "output_type": "stream",
     "text": [
      "LARCENY/THEFT                  476104\n",
      "OTHER OFFENSES                 301437\n",
      "NON-CRIMINAL                   235990\n",
      "ASSAULT                        166909\n",
      "VEHICLE THEFT                  125999\n",
      "DRUG/NARCOTIC                  117679\n",
      "VANDALISM                      114406\n",
      "WARRANTS                        99687\n",
      "BURGLARY                        90744\n",
      "SUSPICIOUS OCC                  79027\n",
      "ROBBERY                         54433\n",
      "MISSING PERSON                  43953\n",
      "FRAUD                           41246\n",
      "FORGERY/COUNTERFEITING          22946\n",
      "SECONDARY CODES                 22364\n",
      "WEAPON LAWS                     20993\n",
      "TRESPASS                        19168\n",
      "PROSTITUTION                    16245\n",
      "STOLEN PROPERTY                 11441\n",
      "DISORDERLY CONDUCT               9921\n",
      "DRUNKENNESS                      9754\n",
      "SEX OFFENSES, FORCIBLE           8710\n",
      "RECOVERED VEHICLE                8677\n",
      "DRIVING UNDER THE INFLUENCE      5649\n",
      "KIDNAPPING                       4281\n",
      "ARSON                            3872\n",
      "EMBEZZLEMENT                     2963\n",
      "LIQUOR LAWS                      2837\n",
      "LOITERING                        2372\n",
      "SUICIDE                          1291\n",
      "BAD CHECKS                        924\n",
      "BRIBERY                           796\n",
      "EXTORTION                         729\n",
      "GAMBLING                          343\n",
      "PORNOGRAPHY/OBSCENE MAT            57\n",
      "SEX OFFENSES, NON FORCIBLE         43\n",
      "TREA                               14\n",
      "Name: Category, dtype: int64\n"
     ]
    }
   ],
   "source": [
    "num_crimes_cat = data[\"Category\"].value_counts()\n",
    "print(num_crimes_cat)"
   ]
  },
  {
   "cell_type": "markdown",
   "metadata": {},
   "source": [
    "It seems that the most prevalent type of crime from 2003 to 2018 is larceny/theft. We can plot a bar chart to visualise the data here."
   ]
  },
  {
   "cell_type": "code",
   "execution_count": 36,
   "metadata": {},
   "outputs": [
    {
     "data": {
      "text/plain": [
       "<matplotlib.axes._subplots.AxesSubplot at 0x26626f26a20>"
      ]
     },
     "execution_count": 36,
     "metadata": {},
     "output_type": "execute_result"
    },
    {
     "data": {
      "image/png": "[encoded data removed]",
      "text/plain": [
       "<Figure size 1152x1080 with 1 Axes>"
      ]
     },
     "metadata": {
      "needs_background": "light"
     },
     "output_type": "display_data"
    }
   ],
   "source": [
    "plt.figure()\n",
    "num_crimes_cat.plot(kind='bar',xlabel='Category',ylabel='Occurences',title='Crime occurences by category',figsize=(16,15))"
   ]
  },
  {
   "cell_type": "markdown",
   "metadata": {},
   "source": [
    "We can also check which day has the highest number of crimes committed."
   ]
  },
  {
   "cell_type": "code",
   "execution_count": 37,
   "metadata": {},
   "outputs": [
    {
     "data": {
      "text/plain": [
       "<matplotlib.axes._subplots.AxesSubplot at 0x2662141e2e8>"
      ]
     },
     "execution_count": 37,
     "metadata": {},
     "output_type": "execute_result"
    },
    {
     "data": {
      "image/png": "[encoded data removed]",
      "text/plain": [
       "<Figure size 720x720 with 1 Axes>"
      ]
     },
     "metadata": {
      "needs_background": "light"
     },
     "output_type": "display_data"
    }
   ],
   "source": [
    "crime_days = data[\"DayOfWeek\"].value_counts()\n",
    "crime_days.plot(kind='bar',xlabel='Day',ylabel='Occurences',title='Crime occurences by day of the week',figsize=(10,10),width=0.75)"
   ]
  },
  {
   "cell_type": "markdown",
   "metadata": {},
   "source": []
  },
  {
   "cell_type": "code",
   "execution_count": 38,
   "metadata": {},
   "outputs": [
    {
     "data": {
      "text/plain": [
       "GRAND THEFT FROM LOCKED AUTO                              177785\n",
       "LOST PROPERTY                                              77464\n",
       "BATTERY                                                    66255\n",
       "STOLEN AUTOMOBILE                                          64518\n",
       "DRIVERS LICENSE, SUSPENDED OR REVOKED                      62334\n",
       "                                                           ...  \n",
       "ASSAULT, AGGRAVATED, ON POLICE OFFICER, W/ FULL AUTO           1\n",
       "BIGAMY, INCEST, AND THE CRIME AGAINST NATURE (GENERAL)         1\n",
       "BOMBING OF POLICE BUILDING                                     1\n",
       "SAFE BURGLARY OF A RESIDENCE WITH EXPLOSIVES                   1\n",
       "VETERAN OR EX-SERVICEMAN, FALSE REPRESENTATION AS              1\n",
       "Name: Descript, Length: 847, dtype: int64"
      ]
     },
     "execution_count": 38,
     "metadata": {},
     "output_type": "execute_result"
    }
   ],
   "source": [
    "data[\"Descript\"].value_counts()"
   ]
  },
  {
   "cell_type": "code",
   "execution_count": null,
   "metadata": {},
   "outputs": [],
   "source": []
  }
 ],
 "metadata": {
  "kernelspec": {
   "display_name": "Python 3",
   "language": "python",
   "name": "python3"
  },
  "language_info": {
   "codemirror_mode": {
    "name": "ipython",
    "version": 3
   },
   "file_extension": ".py",
   "mimetype": "text/x-python",
   "name": "python",
   "nbconvert_exporter": "python",
   "pygments_lexer": "ipython3",
   "version": "3.7.0"
  }
 },
 "nbformat": 4,
 "nbformat_minor": 2
}
